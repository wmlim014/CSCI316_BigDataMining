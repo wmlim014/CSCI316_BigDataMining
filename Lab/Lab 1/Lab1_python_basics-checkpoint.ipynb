{
 "cells": [
  {
   "cell_type": "code",
   "execution_count": 1,
   "id": "1c2a5c80",
   "metadata": {},
   "outputs": [
    {
     "data": {
      "text/plain": [
       "8"
      ]
     },
     "execution_count": 1,
     "metadata": {},
     "output_type": "execute_result"
    }
   ],
   "source": [
    "2*4"
   ]
  },
  {
   "cell_type": "code",
   "execution_count": 2,
   "id": "730fc1eb",
   "metadata": {},
   "outputs": [
    {
     "data": {
      "text/plain": [
       "2"
      ]
     },
     "execution_count": 2,
     "metadata": {},
     "output_type": "execute_result"
    }
   ],
   "source": [
    "import math\n",
    "math.ceil(1.1)"
   ]
  },
  {
   "cell_type": "code",
   "execution_count": 3,
   "id": "87c54dc9",
   "metadata": {},
   "outputs": [
    {
     "data": {
      "text/plain": [
       "2"
      ]
     },
     "execution_count": 3,
     "metadata": {},
     "output_type": "execute_result"
    }
   ],
   "source": [
    "from math import ceil\n",
    "ceil(1.1)"
   ]
  },
  {
   "cell_type": "code",
   "execution_count": 4,
   "id": "d1fe76f5",
   "metadata": {},
   "outputs": [
    {
     "data": {
      "text/plain": [
       "16"
      ]
     },
     "execution_count": 4,
     "metadata": {},
     "output_type": "execute_result"
    }
   ],
   "source": [
    "def double(x):\n",
    "    return x*2\n",
    "double(8)"
   ]
  },
  {
   "cell_type": "code",
   "execution_count": 5,
   "id": "521cd8bc",
   "metadata": {},
   "outputs": [
    {
     "data": {
      "text/plain": [
       "7"
      ]
     },
     "execution_count": 5,
     "metadata": {},
     "output_type": "execute_result"
    }
   ],
   "source": [
    "sum_result=lambda x,y: x+y\n",
    "sum_result(3,4)"
   ]
  },
  {
   "cell_type": "code",
   "execution_count": 6,
   "id": "b6d3c7ea",
   "metadata": {},
   "outputs": [
    {
     "name": "stdout",
     "output_type": "stream",
     "text": [
      "data science\n",
      "\t\n",
      "\\t\n",
      "This is the first line \n",
      "and this is the second line \n",
      "and this is the third line\n"
     ]
    }
   ],
   "source": [
    "single_quoted_string='data science'\n",
    "print(single_quoted_string)\n",
    "double_quoted_string=\"data science\"\n",
    "tab_string=\"\\t\"\n",
    "print(tab_string)\n",
    "not_tab_string=r\"\\t\"\n",
    "print(not_tab_string)\n",
    "multi_line_string=\"\"\"This is the first line \n",
    "and this is the second line \n",
    "and this is the third line\"\"\"\n",
    "print(multi_line_string)"
   ]
  },
  {
   "cell_type": "code",
   "execution_count": 7,
   "id": "10da2cc2",
   "metadata": {},
   "outputs": [
    {
     "name": "stdout",
     "output_type": "stream",
     "text": [
      "cannot divide by zero\n"
     ]
    },
    {
     "ename": "ZeroDivisionError",
     "evalue": "division by zero",
     "output_type": "error",
     "traceback": [
      "\u001b[0;31m---------------------------------------------------------------------------\u001b[0m",
      "\u001b[0;31mZeroDivisionError\u001b[0m                         Traceback (most recent call last)",
      "Input \u001b[0;32mIn [7]\u001b[0m, in \u001b[0;36m<cell line: 5>\u001b[0;34m()\u001b[0m\n\u001b[1;32m      3\u001b[0m \u001b[38;5;28;01mexcept\u001b[39;00m \u001b[38;5;167;01mZeroDivisionError\u001b[39;00m:\n\u001b[1;32m      4\u001b[0m     \u001b[38;5;28mprint\u001b[39m(\u001b[38;5;124m\"\u001b[39m\u001b[38;5;124mcannot divide by zero\u001b[39m\u001b[38;5;124m\"\u001b[39m)\n\u001b[0;32m----> 5\u001b[0m \u001b[38;5;28mprint\u001b[39m(\u001b[38;5;241;43m0\u001b[39;49m\u001b[38;5;241;43m/\u001b[39;49m\u001b[38;5;241;43m0\u001b[39;49m)\n",
      "\u001b[0;31mZeroDivisionError\u001b[0m: division by zero"
     ]
    }
   ],
   "source": [
    "try:\n",
    "    print(0/0)\n",
    "except ZeroDivisionError:\n",
    "    print(\"cannot divide by zero\")\n",
    "print(0/0)"
   ]
  },
  {
   "cell_type": "code",
   "execution_count": 8,
   "id": "8b798178",
   "metadata": {},
   "outputs": [
    {
     "name": "stdout",
     "output_type": "stream",
     "text": [
      "[1, 2, 3]\n",
      "['string', 0.1, True]\n",
      "[[1, 2, 3], ['string', 0.1, True], []]\n",
      "3\n",
      "6\n",
      "[-1, 1, 2, 3, 4, 5, 6, 7, 8, 9]\n",
      "[1, 2, 3, 4]\n"
     ]
    }
   ],
   "source": [
    "integer_list=[1,2,3]\n",
    "heterogeneous_list=[\"string\", 0.1, True]\n",
    "print(integer_list)\n",
    "print(heterogeneous_list)\n",
    "list_of_lists=[integer_list,heterogeneous_list,[]]\n",
    "print(list_of_lists)\n",
    "list_length=len(integer_list)\n",
    "print(list_length)\n",
    "list_sum = sum(integer_list)\n",
    "print(list_sum)\n",
    "x=[0,1,2,3,4,5,6,7,8,9]\n",
    "zero=x[0]\n",
    "one=x[1]\n",
    "nine=x[-1]\n",
    "eight=x[-2]\n",
    "x[0]=-1\n",
    "print(x)\n",
    "first_three=x[:3]\n",
    "three_to_end=x[3:]\n",
    "one_to_four=x[1:5]\n",
    "print(one_to_four)\n",
    "integer_list[1]=0"
   ]
  },
  {
   "cell_type": "code",
   "execution_count": 9,
   "id": "4b84b3f4",
   "metadata": {},
   "outputs": [
    {
     "name": "stdout",
     "output_type": "stream",
     "text": [
      "[1, 2, 3, 4, 5, 6]\n",
      "[1, 2, 3, 4, 5, 6]\n"
     ]
    }
   ],
   "source": [
    "x=[1,2,3]\n",
    "x.extend([4,5,6])\n",
    "print(x)\n",
    "y=[1,2,3]\n",
    "z=y+[4,5,6]\n",
    "print(z)"
   ]
  },
  {
   "cell_type": "code",
   "execution_count": 10,
   "id": "01519a7a",
   "metadata": {},
   "outputs": [
    {
     "name": "stdout",
     "output_type": "stream",
     "text": [
      "[1, 2, 3, 0]\n",
      "0\n",
      "4\n",
      "[[1, 2, 3, 0], [4, 5]]\n"
     ]
    }
   ],
   "source": [
    "x=[1,2,3]\n",
    "x.append(0)\n",
    "print(x)\n",
    "y=x[-1]\n",
    "print(y)\n",
    "z=len(x)\n",
    "print(z)\n",
    "w=[x]\n",
    "w.append([4,5])\n",
    "print(w)"
   ]
  },
  {
   "cell_type": "code",
   "execution_count": 11,
   "id": "32fbeff4",
   "metadata": {},
   "outputs": [],
   "source": [
    "x,y=[1,2]\n",
    "_,y=[1,2]"
   ]
  },
  {
   "cell_type": "code",
   "execution_count": 12,
   "id": "c74c6d99",
   "metadata": {},
   "outputs": [
    {
     "name": "stdout",
     "output_type": "stream",
     "text": [
      "cannot modify a tuple\n"
     ]
    }
   ],
   "source": [
    "my_tuple=(1,2)\n",
    "other_tuple=3,4\n",
    "try:\n",
    "    my_tuple[1]=3\n",
    "except TypeError:\n",
    "    print(\"cannot modify a tuple\")"
   ]
  },
  {
   "cell_type": "code",
   "execution_count": 13,
   "id": "958f7a82",
   "metadata": {},
   "outputs": [
    {
     "name": "stdout",
     "output_type": "stream",
     "text": [
      "(5, 6)\n",
      "15\n",
      "50\n"
     ]
    }
   ],
   "source": [
    "def sum_and_product(x,y):\n",
    "    return (x+y), (x*y)\n",
    "sp=sum_and_product(2,3)\n",
    "print(sp)\n",
    "s,p=sum_and_product(5,10)\n",
    "print(s)\n",
    "print(p)"
   ]
  },
  {
   "cell_type": "markdown",
   "id": "aeb416a9",
   "metadata": {},
   "source": [
    "import sys  \n",
    "sys.path.insert(0, '/Users/liukaiping/Documents/CSCI_316_Lab/LabSpecifications/Lab1SetupProgrammingEnvironment/PyScripts')\n",
    "import mySort\n"
   ]
  },
  {
   "cell_type": "code",
   "execution_count": 14,
   "id": "3b94e339",
   "metadata": {},
   "outputs": [
    {
     "ename": "ModuleNotFoundError",
     "evalue": "No module named 'mySort'",
     "output_type": "error",
     "traceback": [
      "\u001b[0;31m---------------------------------------------------------------------------\u001b[0m",
      "\u001b[0;31mModuleNotFoundError\u001b[0m                       Traceback (most recent call last)",
      "Input \u001b[0;32mIn [14]\u001b[0m, in \u001b[0;36m<cell line: 3>\u001b[0;34m()\u001b[0m\n\u001b[1;32m      1\u001b[0m \u001b[38;5;28;01mimport\u001b[39;00m \u001b[38;5;21;01msys\u001b[39;00m\n\u001b[1;32m      2\u001b[0m sys\u001b[38;5;241m.\u001b[39mpath\u001b[38;5;241m.\u001b[39minsert(\u001b[38;5;241m0\u001b[39m, \u001b[38;5;124m'\u001b[39m\u001b[38;5;124m/Users/liukaiping/Documents/CSCI_316_Lab/LabSpecifications/Lab1SetupProgrammingEnvironment/PyScripts\u001b[39m\u001b[38;5;124m'\u001b[39m) \n\u001b[0;32m----> 3\u001b[0m \u001b[38;5;28;01mimport\u001b[39;00m \u001b[38;5;21;01mmySort\u001b[39;00m\n\u001b[1;32m      4\u001b[0m list_test\u001b[38;5;241m=\u001b[39m[\u001b[38;5;241m10\u001b[39m,\u001b[38;5;241m35\u001b[39m,\u001b[38;5;241m42\u001b[39m,\u001b[38;5;241m59\u001b[39m,\u001b[38;5;241m32\u001b[39m]\n\u001b[1;32m      5\u001b[0m mySort\u001b[38;5;241m.\u001b[39msortFunc(list_test)\n",
      "\u001b[0;31mModuleNotFoundError\u001b[0m: No module named 'mySort'"
     ]
    }
   ],
   "source": [
    "import sys\n",
    "sys.path.insert(0, '/Users/liukaiping/Documents/CSCI_316_Lab/LabSpecifications/Lab1SetupProgrammingEnvironment/PyScripts') \n",
    "import mySort\n",
    "list_test=[10,35,42,59,32]\n",
    "mySort.sortFunc(list_test)"
   ]
  },
  {
   "cell_type": "code",
   "execution_count": null,
   "id": "2d5b45f2",
   "metadata": {},
   "outputs": [],
   "source": [
    "empty_dict={}\n",
    "grades={\"Joel\":80, \"Tim\":95}\n",
    "joels_grade=grades[\"Joel\"]\n",
    "print(joels_grade)\n",
    "print(\"Joel\"in grades)\n",
    "print(\"Kate\"in grades)\n",
    "print(not \"Kate\"in grades)\n",
    "joels_grade= grades.get(\"Joel\",0)\n",
    "print(joels_grade)\n",
    "kates_grade=grades.get(\"Kate\",0)\n",
    "print(kates_grade)\n",
    "no_ones_grade=grades.get(\"No One\")\n",
    "print(no_ones_grade)\n",
    "grades[\"Tim\"]=99\n",
    "print(grades.get(\"Tim\"))\n",
    "grades[\"Kate\"]=100\n",
    "num_students=len(grades)\n",
    "print(num_students)"
   ]
  },
  {
   "cell_type": "code",
   "execution_count": null,
   "id": "783df16d",
   "metadata": {},
   "outputs": [],
   "source": [
    "tweet={\"user\":\"joelgrus\",\n",
    "       \"text\":\"Data Science is Awesome\",\n",
    "      \"retweet_count\": 100,\n",
    "      \"hashtags\":[\"#data\",\"#science\",\"#datascience\",\"awesome\",\"#yolo\"]}\n",
    "tweet_keys=tweet.keys()\n",
    "print(tweet_keys)\n",
    "tweet_values=tweet.values()\n",
    "print(tweet_values)\n",
    "tweet_items=tweet.items()\n",
    "print(tweet_items)\n",
    "print(\"user\" in tweet_keys)\n",
    "print(\"user\" in tweet)"
   ]
  },
  {
   "cell_type": "code",
   "execution_count": null,
   "id": "ac47b2c4",
   "metadata": {},
   "outputs": [],
   "source": [
    "#Python Counter is a container that will hold the count of each of the elements present in the container\n",
    "from collections import Counter\n",
    "c=Counter([0,1,2,0])\n",
    "print(c)"
   ]
  },
  {
   "cell_type": "code",
   "execution_count": null,
   "id": "8919260a",
   "metadata": {},
   "outputs": [],
   "source": [
    "s=set()\n",
    "s.add(1)\n",
    "s.add(2)\n",
    "s.add(2)\n",
    "x=len(s)\n",
    "print(x)\n",
    "print(s)\n",
    "print(2 in s)"
   ]
  },
  {
   "cell_type": "code",
   "execution_count": null,
   "id": "561adbfd",
   "metadata": {},
   "outputs": [],
   "source": [
    "stopwords_list=[\"a\",\"an\",\"at\"]+[\"yet\",\"you\"]\n",
    "print(\"zip\" in stopwords_list)\n",
    "stopwords_set=set(stopwords_list)\n",
    "print(\"zip\" in stopwords_set)"
   ]
  },
  {
   "cell_type": "markdown",
   "id": "2c00a858",
   "metadata": {},
   "source": [
    "item_list=[1,2,3,1,2,3]\n",
    "num_list=len(item_list)\n",
    "print(num_list)"
   ]
  },
  {
   "cell_type": "code",
   "execution_count": null,
   "id": "ed0c3de8",
   "metadata": {},
   "outputs": [],
   "source": [
    "item_list=[1,2,3,1,2,3] \n",
    "num_list=len(item_list) \n",
    "print(num_list)\n",
    "item_set=set(item_list)\n",
    "num_distinct_items=len(item_set)\n",
    "print(num_distinct_items)\n",
    "distinct_item_list=list(item_set)\n",
    "print(distinct_item_list)"
   ]
  },
  {
   "cell_type": "code",
   "execution_count": null,
   "id": "3f8a4712",
   "metadata": {},
   "outputs": [],
   "source": [
    "t=set([1])\n",
    "print(t.issubset(s))\n",
    "print(s.union(t))\n",
    "print(s.intersection(t))\n",
    "print(s.difference(t))"
   ]
  },
  {
   "cell_type": "code",
   "execution_count": null,
   "id": "2a451a61",
   "metadata": {},
   "outputs": [],
   "source": [
    "#control Flow\n",
    "if 1>2:\n",
    "    message=\"if only 1 were greater than two\"\n",
    "elif 1>3:\n",
    "    message=\"elif stand for 'else if'\"\n",
    "else:\n",
    "    message=\"when all else fails use else\"\n",
    "print(message)"
   ]
  },
  {
   "cell_type": "code",
   "execution_count": null,
   "id": "3a411c9a",
   "metadata": {},
   "outputs": [],
   "source": [
    "x=9\n",
    "parity=\"even\" if x%2==0 else \"odd\"\n",
    "print(parity)"
   ]
  },
  {
   "cell_type": "code",
   "execution_count": null,
   "id": "a70050c8",
   "metadata": {},
   "outputs": [],
   "source": [
    "x=0\n",
    "while x<10:\n",
    "    print(x,\"is less than 10\")\n",
    "    x+=1\n"
   ]
  },
  {
   "cell_type": "code",
   "execution_count": null,
   "id": "346e164e",
   "metadata": {},
   "outputs": [],
   "source": [
    "for x in range(10):\n",
    "    if x==3:\n",
    "        continue #go immediately to the next iteration\n",
    "    if x==5:\n",
    "        break\n",
    "    print(x)"
   ]
  },
  {
   "cell_type": "code",
   "execution_count": null,
   "id": "d89255ce",
   "metadata": {},
   "outputs": [],
   "source": [
    "#sorting functions\n",
    "x=[4,1,2,3]\n",
    "y=sorted(x) #x is unchanged\n",
    "print(y)\n",
    "print(x)\n",
    "x.sort() #x is changed\n",
    "print(x)"
   ]
  },
  {
   "cell_type": "code",
   "execution_count": null,
   "id": "fb5bd1ff",
   "metadata": {},
   "outputs": [],
   "source": [
    "x=sorted([-4,1,-2],key=abs,reverse=True) #sort the list by absolute value from largest to smallest\n",
    "print(x)"
   ]
  },
  {
   "cell_type": "code",
   "execution_count": null,
   "id": "57f83003",
   "metadata": {},
   "outputs": [],
   "source": [
    "word_counts={\"a\":1,\"b\":3,\"c\":2}\n",
    "wc=sorted(word_counts.items(),key=lambda e:e[1], reverse=True)\n",
    "print(wc)"
   ]
  },
  {
   "cell_type": "code",
   "execution_count": null,
   "id": "9214cddf",
   "metadata": {},
   "outputs": [],
   "source": [
    "#create a list, dictionary or set from a given list\n",
    "even_numbers=[x for x in range(5) if x%2==0]\n",
    "print(even_numbers)\n",
    "\n",
    "squares=[x*x for x in range(5)]\n",
    "print(squares)\n",
    "\n",
    "even_squares=[x*x for x in even_numbers]\n",
    "print(even_squares)\n",
    "\n",
    "square_dict={x:x*x for x in range(5)}\n",
    "print(square_dict)\n",
    "\n",
    "square_set={x*x for x in [1,-1]}\n",
    "print(square_set)\n",
    "\n",
    "zeros=[0 for _ in even_numbers]\n",
    "print(zeros)\n",
    "\n",
    "pairs=[(x,y) for x in range(10)\n",
    "      for y in range(10)]\n",
    "print(pairs)"
   ]
  },
  {
   "cell_type": "code",
   "execution_count": null,
   "id": "ce4bacf2",
   "metadata": {},
   "outputs": [],
   "source": [
    "#map and filter\n",
    "items=[1,2,3,4,5]\n",
    "squared=list(map(lambda x:x**2, items))\n",
    "print(squared)\n",
    "\n",
    "number_list=range(-5,5)\n",
    "less_than_zero=list(filter(lambda x:x<0, number_list))\n",
    "print(less_than_zero)"
   ]
  },
  {
   "cell_type": "code",
   "execution_count": null,
   "id": "6740be6f",
   "metadata": {},
   "outputs": [],
   "source": [
    "#Regular expression\n",
    "import re\n",
    "print(not re.match(\"a\",\"cat\"))\n",
    "#print(re.search(\"a\",\"cat\").span())\n",
    "print(not re.search(\"c\",\"dog\"))\n",
    "\n",
    "split_length=len(re.split(\"[ab]\",\"carbs\"))\n",
    "print(split_length)\n",
    "\n",
    "\"R-D-\"==re.sub(\"[0-9]\",\"-\",\"R2D2\")\n"
   ]
  },
  {
   "cell_type": "code",
   "execution_count": null,
   "id": "4ee3ec08",
   "metadata": {},
   "outputs": [],
   "source": [
    "#object-oriented programming\n",
    "class Set:\n",
    "    def __init__(self, values=None): # this is the constructor\n",
    "        self.dict={}\n",
    "        if values is not None:\n",
    "            for value in values:\n",
    "                self.add(value)\n",
    "                \n",
    "    def add(self,value):\n",
    "        self.dict[value]=True\n",
    "    \n",
    "    def contains(self,value):\n",
    "        return value in self.dict\n",
    "\n",
    "s=Set([1,2,3])\n",
    "print(s.contains(4))\n",
    "s.add(4)\n",
    "print(s.contains(4))"
   ]
  },
  {
   "cell_type": "code",
   "execution_count": null,
   "id": "662eeb72",
   "metadata": {},
   "outputs": [],
   "source": [
    "#Numpy is the core library for scientific computing in Python\n",
    "a=[1,2,-1,4,3]\n",
    "print(max(a))\n",
    "print(min(a))\n",
    "print(sum(a))"
   ]
  },
  {
   "cell_type": "code",
   "execution_count": null,
   "id": "130d75e0",
   "metadata": {},
   "outputs": [],
   "source": [
    "import numpy as np\n",
    "print(np.mean(a))\n",
    "print(np.var(a))\n",
    "print(np.median(a))"
   ]
  },
  {
   "cell_type": "code",
   "execution_count": null,
   "id": "fc906f15",
   "metadata": {},
   "outputs": [],
   "source": [
    "#Numpy Array\n",
    "a=np.array([1,2,3])\n",
    "print(type(a))\n",
    "print(a.shape)\n",
    "print(a[0],a[1],a[2])\n",
    "a[0]=5\n",
    "print(a)\n",
    "b=np.array([[1,2,3],[4,5,6]])\n",
    "print(b.shape)\n",
    "print(b[0,0],b[0,1],b[1,0])"
   ]
  },
  {
   "cell_type": "code",
   "execution_count": null,
   "id": "43a85211",
   "metadata": {},
   "outputs": [],
   "source": [
    "x=np.array([1,2])\n",
    "print(x.dtype)\n",
    "x=np.array([1.0,2.0])\n",
    "print(x.dtype)\n",
    "x=np.array([1,2],dtype=np.int64)\n",
    "print(x.dtype)"
   ]
  },
  {
   "cell_type": "code",
   "execution_count": null,
   "id": "38ca6556",
   "metadata": {},
   "outputs": [],
   "source": [
    "x=np.array([[1.0,2.0],[3.0,4.0]])\n",
    "y=np.array([[5.0,6.0],[7.0,8.0]])\n",
    "print(x+y)\n",
    "print(np.add(x,y))\n",
    "print(x-y)\n",
    "print(np.subtract(x,y))\n",
    "print(x*y)\n",
    "print(np.multiply(x,y))\n",
    "print(x/y)\n",
    "print(np.divide(x,y))\n",
    "print(np.sqrt(x))"
   ]
  },
  {
   "cell_type": "code",
   "execution_count": null,
   "id": "518c59c4",
   "metadata": {},
   "outputs": [],
   "source": [
    "v=np.array([9,10])\n",
    "w=np.array([11,12])\n",
    "print(v.dot(w))\n",
    "print(np.dot(v,w))\n",
    "\n",
    "print(x.dot(v))\n",
    "print(np.dot(x,v))\n",
    "\n",
    "print(x.dot(y))\n",
    "print(np.dot(x,y))"
   ]
  },
  {
   "cell_type": "code",
   "execution_count": null,
   "id": "2bbe6157",
   "metadata": {},
   "outputs": [],
   "source": [
    "x=np.array([[1,2],[3,4]])\n",
    "print(np.sum(x))\n",
    "print(np.sum(x,axis=0))\n",
    "print(np.sum(x,axis=1))\n",
    "print(x)\n",
    "print(x.T)"
   ]
  },
  {
   "cell_type": "code",
   "execution_count": null,
   "id": "ec3f2ea9",
   "metadata": {},
   "outputs": [],
   "source": [
    "v=np.array([1,2,3])\n",
    "print(v)\n",
    "print(v.T)"
   ]
  },
  {
   "cell_type": "code",
   "execution_count": null,
   "id": "6dab4ce0",
   "metadata": {},
   "outputs": [],
   "source": []
  }
 ],
 "metadata": {
  "kernelspec": {
   "display_name": "Python 3 (ipykernel)",
   "language": "python",
   "name": "python3"
  },
  "language_info": {
   "codemirror_mode": {
    "name": "ipython",
    "version": 3
   },
   "file_extension": ".py",
   "mimetype": "text/x-python",
   "name": "python",
   "nbconvert_exporter": "python",
   "pygments_lexer": "ipython3",
   "version": "3.10.4"
  }
 },
 "nbformat": 4,
 "nbformat_minor": 5
}
