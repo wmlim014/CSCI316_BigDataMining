{
  "cells": [
    {
      "cell_type": "markdown",
      "metadata": {
        "id": "YD2sDs8Aalqv"
      },
      "source": [
        "## Compute a Z-Score\n",
        "Z-score normalization refers to the process of normalizing every value in a dataset such that the mean of all of the values is 0 and the standard deviation is 1. It is computed by subtracting each value by the mean of the corresponding features and then dividing by the standard deviation.\n",
        "\n",
        "__New value = (x – μ) / σ__\n",
        "\n",
        "where:\n",
        "\n",
        "x: Original value <br>\n",
        "μ: Mean of data <br>\n",
        "σ: Standard deviation of data <br>\n",
        "\n",
        "For each value in a given feature, the z-score is calculated by dividing the difference between the value and the mean by the standard deviation of the distribution. Because of this, the z-score can be either positive or negative, indicating whether the value is larger or smaller than the mean.\n",
        "\n",
        "The z-score must be used with a normal distribution, which is one of the prerequisites for calculating a standard deviation. We know that in a normal distribution, over 99% of values fall within 3 standard deviations from the mean. Because of this, we can assume that if a z-score returned is larger than 3 that the value is quite unusual."
      ]
    },
    {
      "cell_type": "code",
      "execution_count": null,
      "metadata": {
        "id": "jwkr-kdhalqx"
      },
      "outputs": [],
      "source": [
        "import pandas as pd\n",
        "import numpy as np"
      ]
    },
    {
      "cell_type": "code",
      "execution_count": null,
      "metadata": {
        "id": "mUMgr1PYalqy",
        "outputId": "abf2d5bd-341c-49ec-e310-2ba2e918cf46"
      },
      "outputs": [
        {
          "name": "stdout",
          "output_type": "stream",
          "text": [
            "0    1.735112\n",
            "1    0.106883\n",
            "2    1.996652\n",
            "3   -0.549166\n",
            "4    1.286715\n",
            "5    0.012701\n",
            "6    0.423157\n",
            "7   -2.028096\n",
            "8   -1.559692\n",
            "9   -0.131252\n",
            "dtype: float64\n"
          ]
        }
      ],
      "source": [
        "# Creating a numpy random numbers\n",
        "nparr = np.random.randn(10)         # create a random numpy array\n",
        "s = pd.Series(nparr)               # create a panda series using random numpy array\n",
        "print(s)"
      ]
    },
    {
      "cell_type": "code",
      "execution_count": null,
      "metadata": {
        "id": "_1DZPFy2alqz",
        "outputId": "5762359c-01b3-4c38-944a-e30113aa8275"
      },
      "outputs": [
        {
          "name": "stdout",
          "output_type": "stream",
          "text": [
            "0    1.288118\n",
            "1   -0.017983\n",
            "2    1.497915\n",
            "3   -0.544240\n",
            "4    0.928431\n",
            "5   -0.093532\n",
            "6    0.235719\n",
            "7   -1.730578\n",
            "8   -1.354844\n",
            "9   -0.209006\n",
            "dtype: float64\n",
            "mean:  -2.7755575615628915e-18\n",
            "std:  1.0\n"
          ]
        }
      ],
      "source": [
        "# New value = (x – μ) / σ\n",
        "s = (s - np.mean(s)) / np.std(s)\n",
        "print(s)\n",
        "print('mean: ', np.mean(s))\n",
        "print('std: ', np.std(s))"
      ]
    },
    {
      "cell_type": "code",
      "execution_count": null,
      "metadata": {
        "id": "5J23Jsbdalqz",
        "outputId": "bcec20c5-3153-4d4e-d4cf-650d076814e4"
      },
      "outputs": [
        {
          "data": {
            "text/html": [
              "<div>\n",
              "<style scoped>\n",
              "    .dataframe tbody tr th:only-of-type {\n",
              "        vertical-align: middle;\n",
              "    }\n",
              "\n",
              "    .dataframe tbody tr th {\n",
              "        vertical-align: top;\n",
              "    }\n",
              "\n",
              "    .dataframe thead th {\n",
              "        text-align: right;\n",
              "    }\n",
              "</style>\n",
              "<table border=\"1\" class=\"dataframe\">\n",
              "  <thead>\n",
              "    <tr style=\"text-align: right;\">\n",
              "      <th></th>\n",
              "      <th>Name</th>\n",
              "      <th>YearOfExperience</th>\n",
              "      <th>Salary</th>\n",
              "    </tr>\n",
              "  </thead>\n",
              "  <tbody>\n",
              "    <tr>\n",
              "      <th>0</th>\n",
              "      <td>James</td>\n",
              "      <td>10</td>\n",
              "      <td>229800</td>\n",
              "    </tr>\n",
              "    <tr>\n",
              "      <th>1</th>\n",
              "      <td>Susan</td>\n",
              "      <td>4</td>\n",
              "      <td>83000</td>\n",
              "    </tr>\n",
              "    <tr>\n",
              "      <th>2</th>\n",
              "      <td>Sharon</td>\n",
              "      <td>8</td>\n",
              "      <td>120000</td>\n",
              "    </tr>\n",
              "    <tr>\n",
              "      <th>3</th>\n",
              "      <td>Robert</td>\n",
              "      <td>8</td>\n",
              "      <td>120500</td>\n",
              "    </tr>\n",
              "    <tr>\n",
              "      <th>4</th>\n",
              "      <td>Richard</td>\n",
              "      <td>14</td>\n",
              "      <td>180000</td>\n",
              "    </tr>\n",
              "    <tr>\n",
              "      <th>5</th>\n",
              "      <td>Daniel</td>\n",
              "      <td>20</td>\n",
              "      <td>300000</td>\n",
              "    </tr>\n",
              "    <tr>\n",
              "      <th>6</th>\n",
              "      <td>Brian</td>\n",
              "      <td>2</td>\n",
              "      <td>70000</td>\n",
              "    </tr>\n",
              "    <tr>\n",
              "      <th>7</th>\n",
              "      <td>Jessica</td>\n",
              "      <td>15</td>\n",
              "      <td>100000</td>\n",
              "    </tr>\n",
              "    <tr>\n",
              "      <th>8</th>\n",
              "      <td>Jason</td>\n",
              "      <td>10</td>\n",
              "      <td>90000</td>\n",
              "    </tr>\n",
              "    <tr>\n",
              "      <th>9</th>\n",
              "      <td>Duane</td>\n",
              "      <td>3</td>\n",
              "      <td>10000</td>\n",
              "    </tr>\n",
              "  </tbody>\n",
              "</table>\n",
              "</div>"
            ],
            "text/plain": [
              "      Name  YearOfExperience  Salary\n",
              "0    James                10  229800\n",
              "1    Susan                 4   83000\n",
              "2   Sharon                 8  120000\n",
              "3   Robert                 8  120500\n",
              "4  Richard                14  180000\n",
              "5   Daniel                20  300000\n",
              "6    Brian                 2   70000\n",
              "7  Jessica                15  100000\n",
              "8    Jason                10   90000\n",
              "9    Duane                 3   10000"
            ]
          },
          "execution_count": 17,
          "metadata": {},
          "output_type": "execute_result"
        }
      ],
      "source": [
        "# reading in sample dataset\n",
        "import io\n",
        "from google.colab import files\n",
        "uploaded = files.upload()\n",
        "\n",
        "df = pd.read_csv(io.BytesIO(uploaded['PracticeData.csv']))\n",
        "df.head(10)"
      ]
    },
    {
      "cell_type": "code",
      "execution_count": null,
      "metadata": {
        "id": "nVgliBHSalqz"
      },
      "outputs": [],
      "source": [
        "df['SalaryZScore']=(df['Salary']-df['Salary'].mean())/df['Salary'].std()"
      ]
    },
    {
      "cell_type": "code",
      "execution_count": null,
      "metadata": {
        "id": "GpxJr9wualq0",
        "outputId": "db55ceca-e802-4f8c-c47c-a412448da9eb"
      },
      "outputs": [
        {
          "name": "stdout",
          "output_type": "stream",
          "text": [
            "        Name  YearOfExperience  Salary  SalaryZScore\n",
            "0      James                10  229800      1.694969\n",
            "1      Susan                 4   83000     -0.359454\n",
            "2     Sharon                 8  120000      0.158350\n",
            "3     Robert                 8  120500      0.165348\n",
            "4    Richard                14  180000      0.998033\n",
            "5     Daniel                20  300000      2.677398\n",
            "6      Brian                 2   70000     -0.541385\n",
            "7    Jessica                15  100000     -0.121544\n",
            "8      Jason                10   90000     -0.261491\n",
            "9      Duane                 3   10000     -1.381068\n",
            "10    Mathew                 8   80000     -0.401438\n",
            "11    Milton                12   42000     -0.933237\n",
            "12       Amy                16  180000      0.998033\n",
            "13    Amanda                 5   74400     -0.479809\n",
            "14      Faye                 8  120000      0.158350\n",
            "15    Melody                 2   42000     -0.933237\n",
            "16      John                 9  140000      0.438244\n",
            "17     Kevin                 7  120000      0.158350\n",
            "18  Patricia                16   48000     -0.849269\n",
            "19       Max                 2   24000     -1.185142\n",
            "mean:  -3.3306690738754695e-17\n",
            "std:  0.9746794344808963\n"
          ]
        }
      ],
      "source": [
        "print(df)\n",
        "print('mean: ', np.mean(df['SalaryZScore']))\n",
        "print('std: ', np.std(df['SalaryZScore']))"
      ]
    },
    {
      "cell_type": "code",
      "execution_count": null,
      "metadata": {
        "id": "tg-lfRZOalq0",
        "outputId": "f6c77908-8d8d-4973-88a7-567e059e5497"
      },
      "outputs": [
        {
          "data": {
            "text/plain": [
              "<matplotlib.axes._subplots.AxesSubplot at 0x247f6d6d7f0>"
            ]
          },
          "execution_count": 20,
          "metadata": {},
          "output_type": "execute_result"
        },
        {
          "data": {
            "image/png": "[encoded data removed]",
            "text/plain": [
              "<Figure size 432x288 with 1 Axes>"
            ]
          },
          "metadata": {
            "needs_background": "light"
          },
          "output_type": "display_data"
        }
      ],
      "source": [
        "import matplotlib.pyplot as plt\n",
        "df['Salary'].plot(kind = 'bar')"
      ]
    },
    {
      "cell_type": "code",
      "execution_count": null,
      "metadata": {
        "id": "KHnGru1oalq0",
        "outputId": "c3521458-9d2e-427d-d8a0-8b288c7f3090"
      },
      "outputs": [
        {
          "data": {
            "text/plain": [
              "<matplotlib.axes._subplots.AxesSubplot at 0x247f6e16160>"
            ]
          },
          "execution_count": 21,
          "metadata": {},
          "output_type": "execute_result"
        },
        {
          "data": {
            "image/png": "[encoded data removed]",
            "text/plain": [
              "<Figure size 432x288 with 1 Axes>"
            ]
          },
          "metadata": {
            "needs_background": "light"
          },
          "output_type": "display_data"
        }
      ],
      "source": [
        "df['SalaryZScore'].plot(kind = 'bar')"
      ]
    },
    {
      "cell_type": "code",
      "execution_count": null,
      "metadata": {
        "id": "OTlEbeWOalq1",
        "outputId": "a81196e1-cd2c-4d98-82f9-2b920f4f3b6c"
      },
      "outputs": [
        {
          "data": {
            "text/html": [
              "<div>\n",
              "<style scoped>\n",
              "    .dataframe tbody tr th:only-of-type {\n",
              "        vertical-align: middle;\n",
              "    }\n",
              "\n",
              "    .dataframe tbody tr th {\n",
              "        vertical-align: top;\n",
              "    }\n",
              "\n",
              "    .dataframe thead th {\n",
              "        text-align: right;\n",
              "    }\n",
              "</style>\n",
              "<table border=\"1\" class=\"dataframe\">\n",
              "  <thead>\n",
              "    <tr style=\"text-align: right;\">\n",
              "      <th></th>\n",
              "      <th>Name</th>\n",
              "      <th>YearOfExperience</th>\n",
              "      <th>Salary</th>\n",
              "    </tr>\n",
              "  </thead>\n",
              "  <tbody>\n",
              "    <tr>\n",
              "      <th>0</th>\n",
              "      <td>James</td>\n",
              "      <td>10</td>\n",
              "      <td>229800</td>\n",
              "    </tr>\n",
              "    <tr>\n",
              "      <th>1</th>\n",
              "      <td>Susan</td>\n",
              "      <td>4</td>\n",
              "      <td>83000</td>\n",
              "    </tr>\n",
              "    <tr>\n",
              "      <th>2</th>\n",
              "      <td>Sharon</td>\n",
              "      <td>8</td>\n",
              "      <td>120000</td>\n",
              "    </tr>\n",
              "    <tr>\n",
              "      <th>3</th>\n",
              "      <td>Robert</td>\n",
              "      <td>8</td>\n",
              "      <td>120500</td>\n",
              "    </tr>\n",
              "    <tr>\n",
              "      <th>4</th>\n",
              "      <td>Richard</td>\n",
              "      <td>14</td>\n",
              "      <td>180000</td>\n",
              "    </tr>\n",
              "    <tr>\n",
              "      <th>5</th>\n",
              "      <td>Daniel</td>\n",
              "      <td>20</td>\n",
              "      <td>700000</td>\n",
              "    </tr>\n",
              "    <tr>\n",
              "      <th>6</th>\n",
              "      <td>Brian</td>\n",
              "      <td>2</td>\n",
              "      <td>70000</td>\n",
              "    </tr>\n",
              "    <tr>\n",
              "      <th>7</th>\n",
              "      <td>Jessica</td>\n",
              "      <td>15</td>\n",
              "      <td>100000</td>\n",
              "    </tr>\n",
              "    <tr>\n",
              "      <th>8</th>\n",
              "      <td>Jason</td>\n",
              "      <td>10</td>\n",
              "      <td>90000</td>\n",
              "    </tr>\n",
              "    <tr>\n",
              "      <th>9</th>\n",
              "      <td>Duane</td>\n",
              "      <td>3</td>\n",
              "      <td>-500000</td>\n",
              "    </tr>\n",
              "  </tbody>\n",
              "</table>\n",
              "</div>"
            ],
            "text/plain": [
              "      Name  YearOfExperience  Salary\n",
              "0    James                10  229800\n",
              "1    Susan                 4   83000\n",
              "2   Sharon                 8  120000\n",
              "3   Robert                 8  120500\n",
              "4  Richard                14  180000\n",
              "5   Daniel                20  700000\n",
              "6    Brian                 2   70000\n",
              "7  Jessica                15  100000\n",
              "8    Jason                10   90000\n",
              "9    Duane                 3 -500000"
            ]
          },
          "execution_count": 22,
          "metadata": {},
          "output_type": "execute_result"
        }
      ],
      "source": [
        "# reading in sample dataset\n",
        "uploaded = files.upload()\n",
        "\n",
        "df2 = pd.read_csv(io.BytesIO(uploaded['PracticeData1.csv']))\n",
        "#df2=pd.read_csv('PracticeData-Copy1.csv')\n",
        "df2.head(10)"
      ]
    },
    {
      "cell_type": "code",
      "execution_count": null,
      "metadata": {
        "id": "1Xoej1e7alq1",
        "outputId": "34e3a945-b28c-4a45-af2d-f7f5f714efbd"
      },
      "outputs": [
        {
          "data": {
            "text/plain": [
              "<matplotlib.axes._subplots.AxesSubplot at 0x247f6c819a0>"
            ]
          },
          "execution_count": 23,
          "metadata": {},
          "output_type": "execute_result"
        },
        {
          "data": {
            "image/png": "[encoded data removed]",
            "text/plain": [
              "<Figure size 432x288 with 1 Axes>"
            ]
          },
          "metadata": {
            "needs_background": "light"
          },
          "output_type": "display_data"
        }
      ],
      "source": [
        "import matplotlib.pyplot as plt\n",
        "df2['Salary'].plot(kind = 'bar')"
      ]
    },
    {
      "cell_type": "code",
      "execution_count": null,
      "metadata": {
        "id": "Rcn-qQeIalq1"
      },
      "outputs": [],
      "source": [
        "df2['SalaryZScore']=(df2['Salary']-df2['Salary'].mean())/df2['Salary'].std()"
      ]
    },
    {
      "cell_type": "code",
      "execution_count": null,
      "metadata": {
        "id": "scXDfnAcalq2",
        "outputId": "3fc9d3d3-dc47-4ebc-b376-c703c7554c24"
      },
      "outputs": [
        {
          "name": "stdout",
          "output_type": "stream",
          "text": [
            "        Name  YearOfExperience  Salary  SalaryZScore\n",
            "0      James                10  229800      0.628862\n",
            "1      Susan                 4   83000     -0.100253\n",
            "2     Sharon                 8  120000      0.083515\n",
            "3     Robert                 8  120500      0.085999\n",
            "4    Richard                14  180000      0.381519\n",
            "5     Daniel                20  700000      2.964215\n",
            "6      Brian                 2   70000     -0.164821\n",
            "7    Jessica                15  100000     -0.015819\n",
            "8      Jason                10   90000     -0.065486\n",
            "9      Duane                 3 -500000     -2.995853\n",
            "10    Mathew                 8   80000     -0.115153\n",
            "11    Milton                12   42000     -0.303889\n",
            "12       Amy                16  180000      0.381519\n",
            "13    Amanda                 5   74400     -0.142967\n",
            "14      Faye                 8  120000      0.083515\n",
            "15    Melody                 2   42000     -0.303889\n",
            "16      John                 9  140000      0.182850\n",
            "17     Kevin                 7  120000      0.083515\n",
            "18  Patricia                16   48000     -0.274089\n",
            "19       Max                 2   24000     -0.393290\n",
            "mean:  1.3877787807814457e-17\n",
            "std:  0.9746794344808962\n"
          ]
        }
      ],
      "source": [
        "print(df2)\n",
        "print('mean: ', np.mean(df2['SalaryZScore']))\n",
        "print('std: ', np.std(df2['SalaryZScore']))"
      ]
    },
    {
      "cell_type": "code",
      "execution_count": null,
      "metadata": {
        "id": "35DEnkoWalq2",
        "outputId": "213a5a10-8ecb-4a36-971f-c50776fb6328"
      },
      "outputs": [
        {
          "data": {
            "text/plain": [
              "<matplotlib.axes._subplots.AxesSubplot at 0x247f6f21910>"
            ]
          },
          "execution_count": 26,
          "metadata": {},
          "output_type": "execute_result"
        },
        {
          "data": {
            "image/png": "[encoded data removed]",
            "text/plain": [
              "<Figure size 432x288 with 1 Axes>"
            ]
          },
          "metadata": {
            "needs_background": "light"
          },
          "output_type": "display_data"
        }
      ],
      "source": [
        "df2['SalaryZScore'].plot(kind = 'bar')"
      ]
    },
    {
      "cell_type": "code",
      "execution_count": null,
      "metadata": {
        "id": "VtAXB2VUalq2"
      },
      "outputs": [],
      "source": []
    }
  ],
  "metadata": {
    "colab": {
      "provenance": []
    },
    "kernelspec": {
      "display_name": "Python 3",
      "language": "python",
      "name": "python3"
    },
    "language_info": {
      "codemirror_mode": {
        "name": "ipython",
        "version": 3
      },
      "file_extension": ".py",
      "mimetype": "text/x-python",
      "name": "python",
      "nbconvert_exporter": "python",
      "pygments_lexer": "ipython3",
      "version": "3.8.5"
    }
  },
  "nbformat": 4,
  "nbformat_minor": 0
}
