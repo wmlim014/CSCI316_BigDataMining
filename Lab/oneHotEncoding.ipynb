{
  "cells": [
    {
      "cell_type": "markdown",
      "metadata": {
        "id": "tM1Fcj6mIQZc"
      },
      "source": [
        "# One-Hot-Encoding\n",
        "One-hot encoding is used to convert categorical variables into a format that can be readily used by machine learning algorithms. The basic idea of one-hot encoding is to create new variables that take on values 0 and 1 to represent the original categorical values. It is often useful to transform categorical features into vectors so that you can do vector operations (such as calculating the cosine distance) on them."
      ]
    },
    {
      "cell_type": "code",
      "execution_count": 2,
      "metadata": {
        "id": "96uqYSZsIQZj"
      },
      "outputs": [],
      "source": [
        "import pandas as pd\n",
        "import numpy as np"
      ]
    },
    {
      "cell_type": "markdown",
      "metadata": {
        "id": "wfD-EpztIQZk"
      },
      "source": [
        "For example, we want to convert/transform a categorical variable that contains the three network protocol 'ICMP', 'TCP', 'UDP' into features/variables contain only 0 and 1 values. One way to do this is to one-hot encode the protocols. That is, <br><br>\n",
        "`| ICMP | TCP | UDP |`<br>\n",
        "`|  0   |  1  |  0  |`<br>\n",
        "`|  1   |  0  |  0  |`<br>\n",
        "`|  0   |  0  |  1  |`<br>\n",
        "\n"
      ]
    },
    {
      "cell_type": "code",
      "execution_count": 3,
      "metadata": {
        "colab": {
          "base_uri": "https://localhost:8080/"
        },
        "id": "LJJMIRX6IQZl",
        "outputId": "bf6d2cd7-2a36-408c-dc7a-ddd27a4f1e5c"
      },
      "outputs": [
        {
          "name": "stdout",
          "output_type": "stream",
          "text": [
            "  protocol\n",
            "0      TCP\n",
            "1     IMCP\n",
            "2      UDP\n"
          ]
        },
        {
          "data": {
            "text/plain": [
              "3"
            ]
          },
          "execution_count": 3,
          "metadata": {},
          "output_type": "execute_result"
        }
      ],
      "source": [
        "# Create the data\n",
        "protocolDF = pd.DataFrame({'protocol': ['TCP', 'IMCP', 'UDP']})\n",
        "\n",
        "#view DataFrame\n",
        "print(protocolDF)\n",
        "protocolDF.shape[0]"
      ]
    },
    {
      "cell_type": "code",
      "execution_count": 5,
      "metadata": {
        "colab": {
          "base_uri": "https://localhost:8080/",
          "height": 143
        },
        "id": "21qapdF-IQZm",
        "outputId": "18e5361b-7d40-47ac-a447-761b98bbe16f"
      },
      "outputs": [
        {
          "data": {
            "text/html": [
              "<div>\n",
              "<style scoped>\n",
              "    .dataframe tbody tr th:only-of-type {\n",
              "        vertical-align: middle;\n",
              "    }\n",
              "\n",
              "    .dataframe tbody tr th {\n",
              "        vertical-align: top;\n",
              "    }\n",
              "\n",
              "    .dataframe thead th {\n",
              "        text-align: right;\n",
              "    }\n",
              "</style>\n",
              "<table border=\"1\" class=\"dataframe\">\n",
              "  <thead>\n",
              "    <tr style=\"text-align: right;\">\n",
              "      <th></th>\n",
              "      <th>protocol_IMCP</th>\n",
              "      <th>protocol_TCP</th>\n",
              "      <th>protocol_UDP</th>\n",
              "    </tr>\n",
              "  </thead>\n",
              "  <tbody>\n",
              "    <tr>\n",
              "      <th>0</th>\n",
              "      <td>False</td>\n",
              "      <td>True</td>\n",
              "      <td>False</td>\n",
              "    </tr>\n",
              "    <tr>\n",
              "      <th>1</th>\n",
              "      <td>True</td>\n",
              "      <td>False</td>\n",
              "      <td>False</td>\n",
              "    </tr>\n",
              "    <tr>\n",
              "      <th>2</th>\n",
              "      <td>False</td>\n",
              "      <td>False</td>\n",
              "      <td>True</td>\n",
              "    </tr>\n",
              "  </tbody>\n",
              "</table>\n",
              "</div>"
            ],
            "text/plain": [
              "   protocol_IMCP  protocol_TCP  protocol_UDP\n",
              "0          False          True         False\n",
              "1           True         False         False\n",
              "2          False         False          True"
            ]
          },
          "execution_count": 5,
          "metadata": {},
          "output_type": "execute_result"
        }
      ],
      "source": [
        "# Next, we use Pandas' 'get_dummies' method to create the one-hot encoding\n",
        "protocolOneHotdf = pd.DataFrame({'protocol': ['TCP', 'IMCP', 'UDP']}) # Make a data\n",
        "protocolOneHotdf = pd.get_dummies(protocolOneHotdf['protocol'], prefix='protocol') # Take protocol column, and use one-hot dataframe to convert\n",
        "protocolOneHotdf"
      ]
    },
    {
      "cell_type": "code",
      "execution_count": 6,
      "metadata": {
        "colab": {
          "base_uri": "https://localhost:8080/",
          "height": 143
        },
        "id": "6UGk7uEkIQZm",
        "outputId": "7e18f0f8-4c87-4970-e849-28265a5248c6"
      },
      "outputs": [
        {
          "data": {
            "text/html": [
              "<div>\n",
              "<style scoped>\n",
              "    .dataframe tbody tr th:only-of-type {\n",
              "        vertical-align: middle;\n",
              "    }\n",
              "\n",
              "    .dataframe tbody tr th {\n",
              "        vertical-align: top;\n",
              "    }\n",
              "\n",
              "    .dataframe thead th {\n",
              "        text-align: right;\n",
              "    }\n",
              "</style>\n",
              "<table border=\"1\" class=\"dataframe\">\n",
              "  <thead>\n",
              "    <tr style=\"text-align: right;\">\n",
              "      <th></th>\n",
              "      <th>protocol</th>\n",
              "    </tr>\n",
              "  </thead>\n",
              "  <tbody>\n",
              "    <tr>\n",
              "      <th>0</th>\n",
              "      <td>False,True,False</td>\n",
              "    </tr>\n",
              "    <tr>\n",
              "      <th>1</th>\n",
              "      <td>True,False,False</td>\n",
              "    </tr>\n",
              "    <tr>\n",
              "      <th>2</th>\n",
              "      <td>False,False,True</td>\n",
              "    </tr>\n",
              "  </tbody>\n",
              "</table>\n",
              "</div>"
            ],
            "text/plain": [
              "           protocol\n",
              "0  False,True,False\n",
              "1  True,False,False\n",
              "2  False,False,True"
            ]
          },
          "execution_count": 6,
          "metadata": {},
          "output_type": "execute_result"
        }
      ],
      "source": [
        "# Combine them together\n",
        "one_hot = pd.get_dummies(protocolDF[\"protocol\"])\n",
        "for row in range(protocolDF.shape[0]):\n",
        "    protocolDF[\"protocol\"].at[row]=str(one_hot.iloc[row,0])+','+str(one_hot.iloc[row,1])+','+str(one_hot.iloc[row,2])\n",
        "protocolDF\n",
        "\n",
        "#kddcup[\"protocol_type\"].at[row] = str(one_hot.iloc[row, 0]) + ',' + str(one_hot.iloc[row, 1]) + ',' + str(one_hot.iloc[row, 2])"
      ]
    },
    {
      "cell_type": "code",
      "execution_count": null,
      "metadata": {
        "id": "4wiw2qBUIQZn"
      },
      "outputs": [],
      "source": []
    }
  ],
  "metadata": {
    "colab": {
      "provenance": []
    },
    "kernelspec": {
      "display_name": "Python 3",
      "language": "python",
      "name": "python3"
    },
    "language_info": {
      "codemirror_mode": {
        "name": "ipython",
        "version": 3
      },
      "file_extension": ".py",
      "mimetype": "text/x-python",
      "name": "python",
      "nbconvert_exporter": "python",
      "pygments_lexer": "ipython3",
      "version": "3.11.9"
    }
  },
  "nbformat": 4,
  "nbformat_minor": 0
}
