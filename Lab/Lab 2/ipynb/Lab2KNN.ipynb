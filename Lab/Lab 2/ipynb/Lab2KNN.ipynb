version https://git-lfs.github.com/spec/v1
oid sha256:e83bf5f16aaee2452c1f1013df2dca2797efa380dbfb88bc6bcb24e6d2a276d7
size 3417
