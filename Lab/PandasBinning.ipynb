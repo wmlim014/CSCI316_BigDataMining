{
  "cells": [
    {
      "cell_type": "markdown",
      "metadata": {
        "id": "0SBe_Vk0J7sx"
      },
      "source": [
        "# Binning\n",
        "* Data binning is a type of data preprocessing, a mechanism which includes also dealing with missing values, formatting, normalization and standardization.\n",
        "* Binning, also called discretization, is a technique for reducing the cardinality of continuous and discrete data. In other words, it replaces values contained into a small interval with a single representative value for that interval.\n",
        "* Binning groups related values together in bins to reduce the number of distinct values.\n",
        "* Binning can improve model quality by strengthening the relationship between attributes."
      ]
    },
    {
      "cell_type": "code",
      "execution_count": 5,
      "metadata": {
        "id": "6zoxchIrJ7sz"
      },
      "outputs": [],
      "source": [
        "# Importing pandas and numpy libraries\n",
        "import pandas as pd\n",
        "import numpy as np\n",
        "import matplotlib.pyplot as plt\n",
        "import seaborn as sns\n",
        "\n",
        "sns.set_style('whitegrid')"
      ]
    },
    {
      "cell_type": "markdown",
      "metadata": {},
      "source": [
        "Most simple way to have a bin, but this request large number of storage. (each value occupied one bin)"
      ]
    },
    {
      "cell_type": "code",
      "execution_count": 6,
      "metadata": {
        "colab": {
          "base_uri": "https://localhost:8080/"
        },
        "id": "TjQ-HECqJ7s0",
        "outputId": "7e53f97b-e96a-4037-c9dc-4e05f7c4d1cc"
      },
      "outputs": [
        {
          "name": "stdout",
          "output_type": "stream",
          "text": [
            "      Name  Score\n",
            "0   George     63\n",
            "1   Andrea     48\n",
            "2  micheal     56\n",
            "3   maggie     75\n",
            "4     Ravi     32\n",
            "5     Xien     77\n",
            "6    Jalpa     89\n",
            "7  Tyieren     22\n"
          ]
        }
      ],
      "source": [
        "# First we create a sample DataFrame\n",
        "scoreList = {\n",
        "    'Name':['George','Andrea','micheal','maggie','Ravi','Xien','Jalpa','Tyieren'],\n",
        "    'Score':[63,48,56,75,32,77,89,22]\n",
        "}\n",
        "\n",
        "scoreDF = pd.DataFrame(scoreList,columns=['Name','Score'])\n",
        "print(scoreDF)"
      ]
    },
    {
      "cell_type": "markdown",
      "metadata": {
        "id": "jEgA1bBMJ7s1"
      },
      "source": [
        "One of the most common instances of binning is done behind the scenes for you when creating a histogram. The histogram below of students test scores, shows how a continuous set of test scores can be divided into discrete bins (for example: 22, 32, 48, 56, 63, 75, 77, 89) and then used to group and count account instances."
      ]
    },
    {
      "cell_type": "code",
      "execution_count": 7,
      "metadata": {
        "colab": {
          "base_uri": "https://localhost:8080/",
          "height": 447
        },
        "id": "E2JpWWOBJ7s1",
        "outputId": "da198510-a8ed-4efa-8f35-062d3405d606"
      },
      "outputs": [
        {
          "data": {
            "text/plain": [
              "<Axes: ylabel='Frequency'>"
            ]
          },
          "execution_count": 7,
          "metadata": {},
          "output_type": "execute_result"
        },
        {
          "data": {
            "image/png": "[encoded data removed]",
            "text/plain": [
              "<Figure size 640x480 with 1 Axes>"
            ]
          },
          "metadata": {},
          "output_type": "display_data"
        }
      ],
      "source": [
        "scoreDF['Score'].plot(kind='hist')"
      ]
    },
    {
      "cell_type": "code",
      "execution_count": 8,
      "metadata": {
        "colab": {
          "base_uri": "https://localhost:8080/"
        },
        "id": "1wHV0px7J7s2",
        "outputId": "63dd40aa-0611-4bc1-9604-a862184aab7b"
      },
      "outputs": [
        {
          "data": {
            "text/plain": [
              "Name     Score\n",
              "Andrea   48       1\n",
              "George   63       1\n",
              "Jalpa    89       1\n",
              "Ravi     32       1\n",
              "Tyieren  22       1\n",
              "Xien     77       1\n",
              "maggie   75       1\n",
              "micheal  56       1\n",
              "Name: count, dtype: int64"
            ]
          },
          "execution_count": 8,
          "metadata": {},
          "output_type": "execute_result"
        }
      ],
      "source": [
        "scoreDF.value_counts()"
      ]
    },
    {
      "cell_type": "markdown",
      "metadata": {
        "id": "dtI6h0hLJ7s2"
      },
      "source": [
        "There are many other scenarios where you may want to define your own bins. In the example above, there are 7 bins with data. What if we wanted to divide our students' score into 3, 4 or 5 groupings?\n",
        "\n",
        "Pandas library has two useful functions `cut` and `qcut` for data binning."
      ]
    },
    {
      "cell_type": "markdown",
      "metadata": {
        "id": "QNEv9EqIJ7s2"
      },
      "source": [
        "Binning can be applied to convert numeric values to categorical or to sample (quantise) numeric values.\n",
        "\n",
        "* **convert numeric to categorical** includes `binning by distance` (cut()) and `binning by frequency` (qcut())\n",
        "* **reduce numeric values** includes `quantisation (or sampling)`."
      ]
    },
    {
      "cell_type": "markdown",
      "metadata": {
        "id": "z3ali4hQJ7s3"
      },
      "source": [
        "## Binning by distance\n",
        "To perform binning by distance, we need to define the edges of each bin. After defining the edges, we use the Pandas `cut()` method to form the bins.\n",
        "\n",
        "We group values related to the score column into five groups: fail, pass, credit, distinction, high_distinction. In order to do it, we need to calculate the intervals within each group falls. We calculate the interval range as the difference between the maximum and minimum value and then we split this interval into five parts, one for each group. We use the functions min() and max() of dataframe to calculate the minimum value and the maximum value of the column Score."
      ]
    },
    {
      "cell_type": "code",
      "execution_count": 9,
      "metadata": {
        "colab": {
          "base_uri": "https://localhost:8080/"
        },
        "id": "Qtysyt8-J7s3",
        "outputId": "bde86af7-58ce-4ccd-c210-00596696f321"
      },
      "outputs": [
        {
          "name": "stdout",
          "output_type": "stream",
          "text": [
            "22\n",
            "89\n"
          ]
        }
      ],
      "source": [
        "minValue = scoreDF['Score'].min()\n",
        "maxValue = scoreDF['Score'].max()\n",
        "print(minValue)\n",
        "print(maxValue)"
      ]
    },
    {
      "cell_type": "markdown",
      "metadata": {
        "id": "oz01PkRUJ7s3"
      },
      "source": [
        "Next, we can calculate the range of each interval, that is, the minimum and maximum value of each interval. Since we have 5 groups, we need 6 edges of intervals (bins):\n",
        "\n",
        "* fail — (edge1, edge2)\n",
        "* pass — (edge2, edge3)\n",
        "* credit — (edge3, edge4)\n",
        "* distinction - (edge4, edge5)\n",
        "* high_distinction - (edge5, edge6)\n",
        "\n",
        "We can use the `linspace()` method of the numpy package to calculate the 5 bins that are equally distributed."
      ]
    },
    {
      "cell_type": "code",
      "execution_count": 10,
      "metadata": {
        "colab": {
          "base_uri": "https://localhost:8080/"
        },
        "id": "E8hiMbD5J7s4",
        "outputId": "cfad946a-1b22-49ba-8c11-38208ff1c5cc"
      },
      "outputs": [
        {
          "data": {
            "text/plain": [
              "array([22. , 35.4, 48.8, 62.2, 75.6, 89. ])"
            ]
          },
          "execution_count": 10,
          "metadata": {},
          "output_type": "execute_result"
        }
      ],
      "source": [
        "scoreBins = np.linspace(minValue,maxValue, 6)\n",
        "scoreBins"
      ]
    },
    {
      "cell_type": "code",
      "execution_count": 11,
      "metadata": {
        "id": "eA3zJ9fUJ7s4"
      },
      "outputs": [],
      "source": [
        "# Next, we define the labels\n",
        "labels = ['Bin1', 'Bin2', 'Bin3', 'Bin4', 'Bin5']"
      ]
    },
    {
      "cell_type": "markdown",
      "metadata": {
        "id": "CQuBtlJyJ7s4"
      },
      "source": [
        "Next, we use the cut() function to convert the numeric values of the column Score into the categorical values. We need to specify the scoreBins and the labels. In addition, we set the parameter include_lowest to True in order to include also the minimum value."
      ]
    },
    {
      "cell_type": "code",
      "execution_count": 12,
      "metadata": {
        "id": "ZS5z5ORTJ7s4"
      },
      "outputs": [],
      "source": [
        "scoreDF['scoreBins'] = pd.cut(scoreDF['Score'], bins=scoreBins, labels=labels, include_lowest=True)"
      ]
    },
    {
      "cell_type": "code",
      "execution_count": 13,
      "metadata": {
        "colab": {
          "base_uri": "https://localhost:8080/",
          "height": 300
        },
        "id": "vvHK1kN3J7s5",
        "outputId": "53d23ee1-a87b-44ab-fbec-7748dcc05f83"
      },
      "outputs": [
        {
          "data": {
            "text/html": [
              "<div>\n",
              "<style scoped>\n",
              "    .dataframe tbody tr th:only-of-type {\n",
              "        vertical-align: middle;\n",
              "    }\n",
              "\n",
              "    .dataframe tbody tr th {\n",
              "        vertical-align: top;\n",
              "    }\n",
              "\n",
              "    .dataframe thead th {\n",
              "        text-align: right;\n",
              "    }\n",
              "</style>\n",
              "<table border=\"1\" class=\"dataframe\">\n",
              "  <thead>\n",
              "    <tr style=\"text-align: right;\">\n",
              "      <th></th>\n",
              "      <th>Score</th>\n",
              "    </tr>\n",
              "  </thead>\n",
              "  <tbody>\n",
              "    <tr>\n",
              "      <th>count</th>\n",
              "      <td>8.000000</td>\n",
              "    </tr>\n",
              "    <tr>\n",
              "      <th>mean</th>\n",
              "      <td>57.750000</td>\n",
              "    </tr>\n",
              "    <tr>\n",
              "      <th>std</th>\n",
              "      <td>23.026382</td>\n",
              "    </tr>\n",
              "    <tr>\n",
              "      <th>min</th>\n",
              "      <td>22.000000</td>\n",
              "    </tr>\n",
              "    <tr>\n",
              "      <th>25%</th>\n",
              "      <td>44.000000</td>\n",
              "    </tr>\n",
              "    <tr>\n",
              "      <th>50%</th>\n",
              "      <td>59.500000</td>\n",
              "    </tr>\n",
              "    <tr>\n",
              "      <th>75%</th>\n",
              "      <td>75.500000</td>\n",
              "    </tr>\n",
              "    <tr>\n",
              "      <th>max</th>\n",
              "      <td>89.000000</td>\n",
              "    </tr>\n",
              "  </tbody>\n",
              "</table>\n",
              "</div>"
            ],
            "text/plain": [
              "           Score\n",
              "count   8.000000\n",
              "mean   57.750000\n",
              "std    23.026382\n",
              "min    22.000000\n",
              "25%    44.000000\n",
              "50%    59.500000\n",
              "75%    75.500000\n",
              "max    89.000000"
            ]
          },
          "execution_count": 13,
          "metadata": {},
          "output_type": "execute_result"
        }
      ],
      "source": [
        "scoreDF.describe()"
      ]
    },
    {
      "cell_type": "code",
      "execution_count": 14,
      "metadata": {
        "colab": {
          "base_uri": "https://localhost:8080/"
        },
        "id": "Zv-9_0rKJ7s5",
        "outputId": "26e8d84c-87a5-4ae2-e01b-a8525cc23363"
      },
      "outputs": [
        {
          "data": {
            "text/plain": [
              "Name     Score  scoreBins\n",
              "Andrea   48     Bin2         1\n",
              "George   63     Bin4         1\n",
              "Jalpa    89     Bin5         1\n",
              "Ravi     32     Bin1         1\n",
              "Tyieren  22     Bin1         1\n",
              "Xien     77     Bin5         1\n",
              "maggie   75     Bin4         1\n",
              "micheal  56     Bin3         1\n",
              "Name: count, dtype: int64"
            ]
          },
          "execution_count": 14,
          "metadata": {},
          "output_type": "execute_result"
        }
      ],
      "source": [
        "scoreDF.value_counts()"
      ]
    },
    {
      "cell_type": "code",
      "execution_count": 15,
      "metadata": {
        "colab": {
          "base_uri": "https://localhost:8080/",
          "height": 482
        },
        "id": "299ehCirJ7s5",
        "outputId": "99228e1f-bd31-48d9-a033-971a3470ee36"
      },
      "outputs": [
        {
          "data": {
            "text/plain": [
              "(array([2., 1., 1., 2., 2.]),\n",
              " array([0. , 0.8, 1.6, 2.4, 3.2, 4. ]),\n",
              " <BarContainer object of 5 artists>)"
            ]
          },
          "execution_count": 15,
          "metadata": {},
          "output_type": "execute_result"
        },
        {
          "data": {
            "image/png": "[encoded data removed]",
            "text/plain": [
              "<Figure size 640x480 with 1 Axes>"
            ]
          },
          "metadata": {},
          "output_type": "display_data"
        }
      ],
      "source": [
        "plt.hist(scoreDF['scoreBins'], bins=5)"
      ]
    },
    {
      "cell_type": "markdown",
      "metadata": {
        "id": "Aoyo2KmdJ7s5"
      },
      "source": [
        "Alternatively, we can set the edges of each bin manually."
      ]
    },
    {
      "cell_type": "code",
      "execution_count": 16,
      "metadata": {
        "colab": {
          "base_uri": "https://localhost:8080/",
          "height": 430
        },
        "id": "Mx2G6pDzJ7s5",
        "outputId": "e3890e7b-8c01-4810-9b6c-d51d9d00bc4b"
      },
      "outputs": [
        {
          "data": {
            "image/png": "[encoded data removed]",
            "text/plain": [
              "<Figure size 640x480 with 1 Axes>"
            ]
          },
          "metadata": {},
          "output_type": "display_data"
        }
      ],
      "source": [
        "# Define and label the bins\n",
        "scoreBinsManual = [ 0, 50, 65, 75, 85, 100 ]\n",
        "labelsManual = ['Fail', 'Pass', 'Credit', 'Distinction', 'High_distinction']\n",
        "\n",
        "# Use function to cut the defined score and label it\n",
        "scoreDF['scoreBinsManual'] = pd.cut(scoreDF['Score'] , bins=scoreBinsManual, labels=labelsManual, include_lowest=True)\n",
        "plt.hist(scoreDF['scoreBinsManual'], bins=5)\n",
        "plt.show()"
      ]
    },
    {
      "cell_type": "markdown",
      "metadata": {},
      "source": [
        "### Pros and Cons\n",
        "In each of the bins, the value of each category is not balance"
      ]
    },
    {
      "cell_type": "code",
      "execution_count": 17,
      "metadata": {
        "colab": {
          "base_uri": "https://localhost:8080/"
        },
        "id": "TQAP_Z6lJ7s6",
        "outputId": "2d014d99-cb11-4e26-d15a-1701c171ace0"
      },
      "outputs": [
        {
          "data": {
            "text/plain": [
              "Name     Score  scoreBins  scoreBinsManual \n",
              "Andrea   48     Bin2       Fail                1\n",
              "George   63     Bin4       Pass                1\n",
              "Jalpa    89     Bin5       High_distinction    1\n",
              "Ravi     32     Bin1       Fail                1\n",
              "Tyieren  22     Bin1       Fail                1\n",
              "Xien     77     Bin5       Distinction         1\n",
              "maggie   75     Bin4       Credit              1\n",
              "micheal  56     Bin3       Pass                1\n",
              "Name: count, dtype: int64"
            ]
          },
          "execution_count": 17,
          "metadata": {},
          "output_type": "execute_result"
        }
      ],
      "source": [
        "scoreDF.value_counts()"
      ]
    },
    {
      "cell_type": "code",
      "execution_count": 18,
      "metadata": {
        "colab": {
          "base_uri": "https://localhost:8080/",
          "height": 300
        },
        "id": "YD83dcCNJ7s6",
        "outputId": "df28208a-0b1f-4d39-8a86-a42bd78cc20d"
      },
      "outputs": [
        {
          "data": {
            "text/html": [
              "<div>\n",
              "<style scoped>\n",
              "    .dataframe tbody tr th:only-of-type {\n",
              "        vertical-align: middle;\n",
              "    }\n",
              "\n",
              "    .dataframe tbody tr th {\n",
              "        vertical-align: top;\n",
              "    }\n",
              "\n",
              "    .dataframe thead th {\n",
              "        text-align: right;\n",
              "    }\n",
              "</style>\n",
              "<table border=\"1\" class=\"dataframe\">\n",
              "  <thead>\n",
              "    <tr style=\"text-align: right;\">\n",
              "      <th></th>\n",
              "      <th>Score</th>\n",
              "    </tr>\n",
              "  </thead>\n",
              "  <tbody>\n",
              "    <tr>\n",
              "      <th>count</th>\n",
              "      <td>8.000000</td>\n",
              "    </tr>\n",
              "    <tr>\n",
              "      <th>mean</th>\n",
              "      <td>57.750000</td>\n",
              "    </tr>\n",
              "    <tr>\n",
              "      <th>std</th>\n",
              "      <td>23.026382</td>\n",
              "    </tr>\n",
              "    <tr>\n",
              "      <th>min</th>\n",
              "      <td>22.000000</td>\n",
              "    </tr>\n",
              "    <tr>\n",
              "      <th>25%</th>\n",
              "      <td>44.000000</td>\n",
              "    </tr>\n",
              "    <tr>\n",
              "      <th>50%</th>\n",
              "      <td>59.500000</td>\n",
              "    </tr>\n",
              "    <tr>\n",
              "      <th>75%</th>\n",
              "      <td>75.500000</td>\n",
              "    </tr>\n",
              "    <tr>\n",
              "      <th>max</th>\n",
              "      <td>89.000000</td>\n",
              "    </tr>\n",
              "  </tbody>\n",
              "</table>\n",
              "</div>"
            ],
            "text/plain": [
              "           Score\n",
              "count   8.000000\n",
              "mean   57.750000\n",
              "std    23.026382\n",
              "min    22.000000\n",
              "25%    44.000000\n",
              "50%    59.500000\n",
              "75%    75.500000\n",
              "max    89.000000"
            ]
          },
          "execution_count": 18,
          "metadata": {},
          "output_type": "execute_result"
        }
      ],
      "source": [
        "scoreDF.describe()"
      ]
    },
    {
      "cell_type": "markdown",
      "metadata": {
        "id": "zIavNEoHJ7s6"
      },
      "source": [
        "## Binning by frequency\n",
        "Binning by frequency calculates the size of each bin so that each bin contains the (almost) same number of observations, but the bin range will vary. We can use the Python pandas `qcut()` method. We can set the precision parameter to define the number of decimal points."
      ]
    },
    {
      "cell_type": "code",
      "execution_count": 19,
      "metadata": {
        "id": "tF1aPm6PJ7s6"
      },
      "outputs": [],
      "source": [
        "quatileLabels = ['Quatile 1', 'Quatile 2', 'Quatile 3', 'Quatile 4', 'Quatile 5']\n",
        "scoreDF['binQcut'] = pd.qcut(scoreDF['Score'], q=5, precision=1, labels=quatileLabels)"
      ]
    },
    {
      "cell_type": "code",
      "execution_count": 20,
      "metadata": {
        "colab": {
          "base_uri": "https://localhost:8080/"
        },
        "id": "mB3r_MXhJ7s6",
        "outputId": "b0f100b6-bc49-4835-eb62-350b27dda432"
      },
      "outputs": [
        {
          "data": {
            "text/plain": [
              "Name     Score  scoreBins  scoreBinsManual   binQcut  \n",
              "Andrea   48     Bin2       Fail              Quatile 2    1\n",
              "George   63     Bin4       Pass              Quatile 3    1\n",
              "Jalpa    89     Bin5       High_distinction  Quatile 5    1\n",
              "Ravi     32     Bin1       Fail              Quatile 1    1\n",
              "Tyieren  22     Bin1       Fail              Quatile 1    1\n",
              "Xien     77     Bin5       Distinction       Quatile 5    1\n",
              "maggie   75     Bin4       Credit            Quatile 4    1\n",
              "micheal  56     Bin3       Pass              Quatile 3    1\n",
              "Name: count, dtype: int64"
            ]
          },
          "execution_count": 20,
          "metadata": {},
          "output_type": "execute_result"
        }
      ],
      "source": [
        "scoreDF.value_counts()"
      ]
    },
    {
      "cell_type": "code",
      "execution_count": 21,
      "metadata": {
        "colab": {
          "base_uri": "https://localhost:8080/",
          "height": 430
        },
        "id": "Msl5drduJ7s6",
        "outputId": "d21fdac2-7b12-4df0-842c-677283e879cb"
      },
      "outputs": [
        {
          "data": {
            "image/png": "[encoded data removed]",
            "text/plain": [
              "<Figure size 640x480 with 1 Axes>"
            ]
          },
          "metadata": {},
          "output_type": "display_data"
        }
      ],
      "source": [
        "plt.hist(scoreDF['binQcut'], bins=5)\n",
        "plt.show()\n"
      ]
    },
    {
      "cell_type": "code",
      "execution_count": 22,
      "metadata": {
        "colab": {
          "base_uri": "https://localhost:8080/",
          "height": 300
        },
        "id": "qw2a_fGYJ7s7",
        "outputId": "729c2207-118c-47b0-b028-779d84e515e5"
      },
      "outputs": [
        {
          "data": {
            "text/html": [
              "<div>\n",
              "<style scoped>\n",
              "    .dataframe tbody tr th:only-of-type {\n",
              "        vertical-align: middle;\n",
              "    }\n",
              "\n",
              "    .dataframe tbody tr th {\n",
              "        vertical-align: top;\n",
              "    }\n",
              "\n",
              "    .dataframe thead th {\n",
              "        text-align: right;\n",
              "    }\n",
              "</style>\n",
              "<table border=\"1\" class=\"dataframe\">\n",
              "  <thead>\n",
              "    <tr style=\"text-align: right;\">\n",
              "      <th></th>\n",
              "      <th>Score</th>\n",
              "    </tr>\n",
              "  </thead>\n",
              "  <tbody>\n",
              "    <tr>\n",
              "      <th>count</th>\n",
              "      <td>8.000000</td>\n",
              "    </tr>\n",
              "    <tr>\n",
              "      <th>mean</th>\n",
              "      <td>57.750000</td>\n",
              "    </tr>\n",
              "    <tr>\n",
              "      <th>std</th>\n",
              "      <td>23.026382</td>\n",
              "    </tr>\n",
              "    <tr>\n",
              "      <th>min</th>\n",
              "      <td>22.000000</td>\n",
              "    </tr>\n",
              "    <tr>\n",
              "      <th>25%</th>\n",
              "      <td>44.000000</td>\n",
              "    </tr>\n",
              "    <tr>\n",
              "      <th>50%</th>\n",
              "      <td>59.500000</td>\n",
              "    </tr>\n",
              "    <tr>\n",
              "      <th>75%</th>\n",
              "      <td>75.500000</td>\n",
              "    </tr>\n",
              "    <tr>\n",
              "      <th>max</th>\n",
              "      <td>89.000000</td>\n",
              "    </tr>\n",
              "  </tbody>\n",
              "</table>\n",
              "</div>"
            ],
            "text/plain": [
              "           Score\n",
              "count   8.000000\n",
              "mean   57.750000\n",
              "std    23.026382\n",
              "min    22.000000\n",
              "25%    44.000000\n",
              "50%    59.500000\n",
              "75%    75.500000\n",
              "max    89.000000"
            ]
          },
          "execution_count": 22,
          "metadata": {},
          "output_type": "execute_result"
        }
      ],
      "source": [
        "scoreDF.describe()"
      ]
    },
    {
      "cell_type": "markdown",
      "metadata": {
        "id": "S5zfd4ilJ7s7"
      },
      "source": [
        "### More examples"
      ]
    },
    {
      "cell_type": "code",
      "execution_count": 23,
      "metadata": {
        "colab": {
          "base_uri": "https://localhost:8080/"
        },
        "id": "pFWepQGXJ7s7",
        "outputId": "37309cbe-2cd0-41bd-9a34-020d74479017"
      },
      "outputs": [
        {
          "name": "stdout",
          "output_type": "stream",
          "text": [
            "      A          B    C         D      E      F\n",
            "0   181 2022-07-17  1.0 -0.466504   Test  Hello\n",
            "1   239 2022-07-17  1.0 -0.822787  Train  Hello\n",
            "2   235 2022-07-17  1.0 -0.782131   Test  Hello\n",
            "3   219 2022-07-17  1.0  0.371817   Test  Hello\n",
            "4   217 2022-07-17  1.0 -1.284716  Train  Hello\n",
            "5   123 2022-07-17  1.0  1.158531  Train  Hello\n",
            "6   260 2022-07-17  1.0  0.121610  Train  Hello\n",
            "7   100 2022-07-17  1.0 -0.687900   Test  Hello\n",
            "8   300 2022-07-17  1.0  1.367009  Train  Hello\n",
            "9   168 2022-07-17  1.0 -0.955821  Train  Hello\n",
            "10  149 2022-07-17  1.0 -1.026127   Test  Hello\n",
            "11  186 2022-07-17  1.0 -0.002099   Test  Hello\n"
          ]
        }
      ],
      "source": [
        "myDf = pd.DataFrame(\\\n",
        "                   {\"A\": [181, 239, 235, 219, 217, 123, 260, 100, 300, 168, 149, 186],\\\n",
        "                    \"B\": pd.Timestamp('20220717'),\\\n",
        "                    \"C\": pd.Series(1, index=list(range(12)), dtype = 'float32'),\\\n",
        "                    \"D\": np.array(np.random.randn(12)),\\\n",
        "                    \"E\": pd.Categorical([\"Test\", \"Train\", \"Test\", \"Test\", \"Train\", \"Train\",\\\n",
        "                                         \"Train\", \"Test\", \"Train\", \"Train\", \"Test\", \"Test\"]),\\\n",
        "                    \"F\": \"Hello\",\n",
        "                   }\n",
        ")\n",
        "print(myDf)"
      ]
    },
    {
      "cell_type": "code",
      "execution_count": 24,
      "metadata": {
        "colab": {
          "base_uri": "https://localhost:8080/"
        },
        "id": "GVn2mPixJ7s7",
        "outputId": "c4cf0407-5978-49e6-cbc4-550436b886ab"
      },
      "outputs": [
        {
          "name": "stdout",
          "output_type": "stream",
          "text": [
            "      A          B    C         D      E      F\n",
            "0   181 2022-07-17  1.0 -0.700643   Test  Hello\n",
            "1   239 2022-07-17  1.0 -0.691265  Train  Hello\n",
            "2   235 2022-07-17  1.0 -0.438534   Test  Hello\n",
            "3   219 2022-07-17  1.0  1.265394   Test  Hello\n",
            "4   217 2022-07-17  1.0 -0.033063  Train  Hello\n",
            "5   123 2022-07-17  1.0 -0.868303  Train  Hello\n",
            "6   260 2022-07-17  1.0  0.364102  Train  Hello\n",
            "7   100 2022-07-17  1.0 -1.042564   Test  Hello\n",
            "8   300 2022-07-17  1.0  0.256745  Train  Hello\n",
            "9   168 2022-07-17  1.0  0.064152  Train  Hello\n",
            "10  149 2022-07-17  1.0  0.395147   Test  Hello\n",
            "11  186 2022-07-17  1.0 -1.363760   Test  Hello\n"
          ]
        }
      ],
      "source": [
        "# The size of bins are determined such that equal data sample are divided into equal sized bins.\n",
        "# This is done using Quantile. For example, if there are 5 bins, the dataset is divided into\n",
        "# five quatiles. Each quatile containing 20% of total area of distribution.\n",
        "#\n",
        "# For example,\n",
        "myDf = pd.DataFrame(\\\n",
        "                   {\"A\": [181, 239, 235, 219, 217, 123, 260, 100, 300, 168, 149, 186],\\\n",
        "                    \"B\": pd.Timestamp('20220717'),\\\n",
        "                    \"C\": pd.Series(1, index=list(range(12)), dtype = 'float32'),\\\n",
        "                    \"D\": np.array(np.random.randn(12)),\\\n",
        "                    \"E\": pd.Categorical([\"Test\", \"Train\", \"Test\", \"Test\", \"Train\", \"Train\",\\\n",
        "                                         \"Train\", \"Test\", \"Train\", \"Train\", \"Test\", \"Test\"]),\\\n",
        "                    \"F\": \"Hello\",\n",
        "                   }\n",
        ")\n",
        "print(myDf)"
      ]
    },
    {
      "cell_type": "markdown",
      "metadata": {
        "id": "49bqlpK8J7s7"
      },
      "source": [
        "We group values related to the column Cupcake into three groups: small, medium and big. In order to do it, we need to calculate the intervals within each group falls. We calculate the interval range as the difference between the maximum and minimum value and then we split this interval into three parts, one for each group. We exploit the functions min() and max() of dataframe to calculate the minimum value and the maximum value of the column Cupcake."
      ]
    },
    {
      "cell_type": "code",
      "execution_count": 25,
      "metadata": {
        "id": "EGOnln0EJ7s7"
      },
      "outputs": [],
      "source": [
        "# Defining a function binning for reusability\n",
        "def binning(data, numOfBin, col):\n",
        "    data[col] = pd.cut(data[col], numOfBin, labels=range(1,numOfBin+1))\n",
        "    return data"
      ]
    },
    {
      "cell_type": "code",
      "execution_count": 26,
      "metadata": {
        "colab": {
          "base_uri": "https://localhost:8080/"
        },
        "id": "irxGG5ztJ7s7",
        "outputId": "504a09a1-0dcd-4daa-95db-4208df5f7535"
      },
      "outputs": [
        {
          "name": "stdout",
          "output_type": "stream",
          "text": [
            "\n",
            "    A          B    C         D      E      F\n",
            "0   3 2022-07-17  1.0 -0.700643   Test  Hello\n",
            "1   4 2022-07-17  1.0 -0.691265  Train  Hello\n",
            "2   4 2022-07-17  1.0 -0.438534   Test  Hello\n",
            "3   3 2022-07-17  1.0  1.265394   Test  Hello\n",
            "4   3 2022-07-17  1.0 -0.033063  Train  Hello\n",
            "5   1 2022-07-17  1.0 -0.868303  Train  Hello\n",
            "6   4 2022-07-17  1.0  0.364102  Train  Hello\n",
            "7   1 2022-07-17  1.0 -1.042564   Test  Hello\n",
            "8   5 2022-07-17  1.0  0.256745  Train  Hello\n",
            "9   2 2022-07-17  1.0  0.064152  Train  Hello\n",
            "10  2 2022-07-17  1.0  0.395147   Test  Hello\n",
            "11  3 2022-07-17  1.0 -1.363760   Test  Hello\n"
          ]
        }
      ],
      "source": [
        "binning(myDf, 5, 'A')\n",
        "print()\n",
        "print(myDf)"
      ]
    },
    {
      "cell_type": "code",
      "execution_count": 27,
      "metadata": {
        "colab": {
          "base_uri": "https://localhost:8080/",
          "height": 482
        },
        "id": "4j6hOXCxJ7s8",
        "outputId": "c6723180-d650-406d-cc53-d613fa8daabb"
      },
      "outputs": [
        {
          "data": {
            "text/plain": [
              "(array([2., 2., 4., 3., 1.]),\n",
              " array([1. , 1.8, 2.6, 3.4, 4.2, 5. ]),\n",
              " <BarContainer object of 5 artists>)"
            ]
          },
          "execution_count": 27,
          "metadata": {},
          "output_type": "execute_result"
        },
        {
          "data": {
            "image/png": "[encoded data removed]",
            "text/plain": [
              "<Figure size 640x480 with 1 Axes>"
            ]
          },
          "metadata": {},
          "output_type": "display_data"
        }
      ],
      "source": [
        "plt.hist(myDf['A'], bins=5)"
      ]
    },
    {
      "cell_type": "code",
      "execution_count": 28,
      "metadata": {
        "colab": {
          "base_uri": "https://localhost:8080/"
        },
        "id": "NToIanVfJ7s8",
        "outputId": "cc536eb9-071f-4c1e-9b7c-1687ce6d3cb1"
      },
      "outputs": [
        {
          "name": "stdout",
          "output_type": "stream",
          "text": [
            "\n",
            "    A          B    C  D      E      F\n",
            "0   3 2022-07-17  1.0  2   Test  Hello\n",
            "1   4 2022-07-17  1.0  2  Train  Hello\n",
            "2   4 2022-07-17  1.0  2   Test  Hello\n",
            "3   3 2022-07-17  1.0  5   Test  Hello\n",
            "4   3 2022-07-17  1.0  3  Train  Hello\n",
            "5   1 2022-07-17  1.0  1  Train  Hello\n",
            "6   4 2022-07-17  1.0  4  Train  Hello\n",
            "7   1 2022-07-17  1.0  1   Test  Hello\n",
            "8   5 2022-07-17  1.0  4  Train  Hello\n",
            "9   2 2022-07-17  1.0  3  Train  Hello\n",
            "10  2 2022-07-17  1.0  4   Test  Hello\n",
            "11  3 2022-07-17  1.0  1   Test  Hello\n"
          ]
        }
      ],
      "source": [
        "# Binning directly to a specific column\n",
        "numOfBin = 5\n",
        "myDf['D'] = pd.cut(myDf['D'], numOfBin,labels = range(1,numOfBin+1))\n",
        "print()\n",
        "print(myDf)"
      ]
    },
    {
      "cell_type": "code",
      "execution_count": 29,
      "metadata": {
        "colab": {
          "base_uri": "https://localhost:8080/",
          "height": 482
        },
        "id": "XYwZJgHEJ7s8",
        "outputId": "bcd20f98-4ea8-45d5-f7db-e22b875ecde6"
      },
      "outputs": [
        {
          "data": {
            "text/plain": [
              "(array([3., 3., 2., 3., 1.]),\n",
              " array([1. , 1.8, 2.6, 3.4, 4.2, 5. ]),\n",
              " <BarContainer object of 5 artists>)"
            ]
          },
          "execution_count": 29,
          "metadata": {},
          "output_type": "execute_result"
        },
        {
          "data": {
            "image/png": "[encoded data removed]",
            "text/plain": [
              "<Figure size 640x480 with 1 Axes>"
            ]
          },
          "metadata": {},
          "output_type": "display_data"
        }
      ],
      "source": [
        "plt.hist(myDf['D'], bins=5)"
      ]
    },
    {
      "cell_type": "code",
      "execution_count": null,
      "metadata": {
        "id": "gR4A5q5MJ7s8"
      },
      "outputs": [],
      "source": []
    },
    {
      "cell_type": "code",
      "execution_count": null,
      "metadata": {
        "id": "Z8E3xeArJ7s8"
      },
      "outputs": [],
      "source": []
    }
  ],
  "metadata": {
    "colab": {
      "provenance": []
    },
    "kernelspec": {
      "display_name": "Python 3",
      "language": "python",
      "name": "python3"
    },
    "language_info": {
      "codemirror_mode": {
        "name": "ipython",
        "version": 3
      },
      "file_extension": ".py",
      "mimetype": "text/x-python",
      "name": "python",
      "nbconvert_exporter": "python",
      "pygments_lexer": "ipython3",
      "version": "3.11.9"
    }
  },
  "nbformat": 4,
  "nbformat_minor": 0
}
